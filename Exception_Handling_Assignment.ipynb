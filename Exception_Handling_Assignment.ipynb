{
  "nbformat": 4,
  "nbformat_minor": 0,
  "metadata": {
    "colab": {
      "provenance": []
    },
    "kernelspec": {
      "name": "python3",
      "display_name": "Python 3"
    },
    "language_info": {
      "name": "python"
    }
  },
  "cells": [
    {
      "cell_type": "markdown",
      "source": [
        "# **Exception Handling Assignment**\n",
        "\n",
        "\n",
        "\n"
      ],
      "metadata": {
        "id": "Pgn-jrR7QKoL"
      }
    },
    {
      "cell_type": "markdown",
      "source": [
        "1. What is the difference between interpreted and compiled languages?\n",
        "-  Interpreted languages (like Python) run the code line by line using an interpreter. Errors show up at runtime.\n",
        "- Compiled languages (like C++) translate the entire code to machine code before execution, making them faster but less flexible for debugging.\n",
        "\n",
        "2. What is exception handling in Python?\n",
        "-  Exception Handling in Python\n",
        "It’s Python’s way of catching and managing errors gracefully so your program doesn’t crash.\n",
        "\n",
        "3. What is the purpose of the finally block in exception handling?\n",
        "- Purpose of the finally Block\n",
        "The finally block always executes, whether an exception occurs or not—great for cleanup tasks like closing files or releasing resources.\n",
        "\n",
        "4. What is logging in Python?\n",
        "- Logging in Python\n",
        "Logging is like a built-in “black box” recorder—it keeps track of what's happening during program execution. You can log info, warnings, errors, and more.\n",
        "5. What is the significance of the del method in Python?\n",
        "- Significance of the __del__ Method\n",
        "This is a destructor method, called when an object is about to be destroyed. It’s rarely used but can help clean up resources.\n",
        "6. What is the difference between import and from ... import in Python?\n",
        "- import vs from ... import\n",
        "- import math → Access like math.sqrt()\n",
        "- from math import sqrt → Access like sqrt()\n",
        "\n",
        "7. How can you handle multiple exceptions in Python?\n",
        "- Handling Multiple Exceptions\n",
        "You can stack them:\n",
        "# try:\n",
        " #   ...\n",
        "#except (TypeError, ValueError) as e:\n",
        "  #  print(\"Caught an error:\", e)\n",
        "\n",
        "8. What is the purpose of the with statement when handling files in Python?\n",
        "- Purpose of with Statement in File Handling\n",
        "It ensures that the file gets closed properly, even if errors occur.\n",
        "with open('data.txt', 'r') as file:\n",
        "    content = file.read()\n",
        "\n",
        "9. What is the difference between multithreading and multiprocessing?\n",
        "- Multithreading vs. Multiprocessing\n",
        "- Multithreading: Several threads run in a single process (better for I/O tasks).\n",
        "- Multiprocessing: Separate processes with their own memory (better for CPU-bound tasks).\n",
        "\n",
        "10. What are the advantages of using logging in a program?\n",
        "- Advantages of Logging\n",
        "- Tracks bugs and flow\n",
        "- Helpful for debugging\n",
        "- Safer than print statements for production\n",
        "\n",
        "11. What is memory management in Python?\n",
        "- Python handles memory automatically using reference counting and garbage collection. You don’t manually allocate or free memory like in C.\n",
        "\n",
        "12. What are the basic steps involved in exception handling in Python?\n",
        "- Use try to wrap risky code.\n",
        "- Use except to handle specific exceptions.\n",
        "- Use else for code that runs only if no exception occurs.\n",
        "- Use finally to run cleanup code no matter what.\n",
        "\n",
        "13. Why is memory management important in Python?\n",
        "- Efficient memory use ensures:\n",
        "- Programs don’t crash from memory leaks.\n",
        "- Performance stays optimal.\n",
        "- Garbage values are cleared automatically.\n",
        "\n",
        "14. What is the role of try and except in exception handling?\n",
        "- try: Runs the code that might raise an error.\n",
        "- except: Catches and handles the error to prevent crashes.\n",
        "\n",
        "15. How does Python's garbage collection system work?\n",
        "- Python uses a reference counter to keep track of how many references point to an object. When the count hits zero, it’s eligible for garbage collection. Python also handles circular references using the gc module.\n",
        "\n",
        "16. What is the purpose of the else block in exception handling?\n",
        "- The else block executes if no exception occurs in the try. It helps keep the code clean and organized.\n",
        "\n",
        "\n",
        "17. What are the common logging levels in Python?\n",
        "- From least to most serious:\n",
        "- DEBUG\n",
        "- INFO\n",
        "- WARNING\n",
        "- ERROR\n",
        "- CRITICAL\n",
        "\n",
        "\n",
        "18. What is the difference between os.fork() and multiprocessing in Python?\n",
        "- os.fork() (Unix-only): Creates a child process by duplicating the current one.\n",
        "- multiprocessing: Cross-platform, higher-level, safer interface for running multiple processes.\n",
        "\n",
        "19. What is the importance of closing a file in Python?\n",
        "- It releases system resources. If not closed, changes may not be saved or the file may remain locked.\n",
        "#with open(\"data.txt\") as f:\n",
        " #   content = f.read()\n",
        "20. What is the difference between file.read() and file.readline() in Python?\n",
        "- read(): Reads the whole file.\n",
        "- readline(): Reads just the next line\n",
        "\n",
        "21. What is the logging module in Python used for?\n",
        "- It allows you to track events and debug more effectively. You can write logs to files, display them on screen, or both\n",
        "22. What is the os module in Python used for in file handling?\n",
        "- Check if files/folders exist (os.path.exists)\n",
        "- Rename or delete files\n",
        "- Work with directories (os.mkdir, os.chdir)\n",
        "\n",
        "23. What are the challenges associated with memory management in Python?\n",
        "- Handling circular references\n",
        "- Managing memory in large or long-running apps\n",
        "- Avoiding memory leaks from cached data or hidden references\n",
        "\n",
        "24. How do you raise an exception manually in Python?\n",
        "- Use raise to trigger exceptions:\n",
        "#raise ValueError(\"This is a custom error\")\n",
        "25. Why is it important to use multithreading in certain applications?\n",
        "- Ideal for I/O-bound tasks: file reads/writes, network operations\n",
        "- Keeps the app responsive (e.g., a GUI that doesn't freeze while downloading data)\n",
        "\n"
      ],
      "metadata": {
        "id": "wUfNRWp_JbYD"
      }
    },
    {
      "cell_type": "code",
      "source": [
        "#1. How can you open a file for writing in Python and write a string to it?\n",
        "# Open (or create) the file in write mode\n",
        "with open(\"example.txt\", \"w\") as file:\n",
        "    file.write(\"Hello, Kalyani! This text will be written to the file.\")"
      ],
      "metadata": {
        "id": "9tKnDOs0Qzj5"
      },
      "execution_count": 1,
      "outputs": []
    },
    {
      "cell_type": "code",
      "source": [
        "#2. Write a Python program to read the contents of a file and print each line.\n",
        "# Specify the filename\n",
        "filename = \"example.txt\"  # Replace with your filename\n",
        "\n",
        "try:\n",
        "    # Open the file in read mode ('r')\n",
        "    with open(filename, 'r') as file:\n",
        "        # Read and print each line\n",
        "        for line in file:\n",
        "            print(line, end='') # end='' prevents adding extra newlines since lines already have them\n",
        "except FileNotFoundError:\n",
        "    print(f\"Error: File '{filename}' not found.\")\n",
        "except Exception as e:\n",
        "    print(f\"An error occurred: {e}\")"
      ],
      "metadata": {
        "colab": {
          "base_uri": "https://localhost:8080/"
        },
        "id": "sXPUEJQyRQnm",
        "outputId": "b76fbdc1-96a0-4279-cf1a-cfc776eaeb95"
      },
      "execution_count": 2,
      "outputs": [
        {
          "output_type": "stream",
          "name": "stdout",
          "text": [
            "Hello, Kalyani! This text will be written to the file."
          ]
        }
      ]
    },
    {
      "cell_type": "code",
      "execution_count": 3,
      "metadata": {
        "colab": {
          "base_uri": "https://localhost:8080/"
        },
        "id": "JAxGnE7eI_Z7",
        "outputId": "625abb72-a5d2-488a-f027-69d3fdc59721"
      },
      "outputs": [
        {
          "output_type": "stream",
          "name": "stdout",
          "text": [
            "Oops! The file does not exist.\n"
          ]
        }
      ],
      "source": [
        "#3. How would you handle a case where the file doesn't exist while trying to open it for reading?\n",
        "try:\n",
        "    with open(\"nonexistent_file.txt\", \"r\") as file:\n",
        "        content = file.read()\n",
        "        print(content)\n",
        "except FileNotFoundError:\n",
        "    print(\"Oops! The file does not exist.\")"
      ]
    },
    {
      "cell_type": "code",
      "source": [
        "#4. Write a Python script that reads from one file and writes its content to another file.\n",
        "# Define source and destination file names\n",
        "source_file = \"source.txt\"\n",
        "destination_file = \"destination.txt\"\n",
        "\n",
        "try:\n",
        "    # Open the source file for reading\n",
        "    with open(source_file, \"r\") as src:\n",
        "        content = src.read()\n",
        "\n",
        "    # Open the destination file for writing\n",
        "    with open(destination_file, \"w\") as dest:\n",
        "        dest.write(content)\n",
        "\n",
        "    print(f\"Content successfully copied from {source_file} to {destination_file}.\")\n",
        "\n",
        "except FileNotFoundError:\n",
        "    print(f\"Oops! The file {source_file} was not found.\")\n",
        "except IOError as e:\n",
        "    print(f\"An I/O error occurred: {e}\")"
      ],
      "metadata": {
        "colab": {
          "base_uri": "https://localhost:8080/"
        },
        "id": "Ajj6VCHgRspW",
        "outputId": "d5756801-76e4-44f3-d3e1-bb5b40a4ae04"
      },
      "execution_count": 4,
      "outputs": [
        {
          "output_type": "stream",
          "name": "stdout",
          "text": [
            "Oops! The file source.txt was not found.\n"
          ]
        }
      ]
    },
    {
      "cell_type": "code",
      "source": [
        "#5. How would you catch and handle division by zero error in Python?\n",
        "try:\n",
        "    result = 10 / 0\n",
        "except ZeroDivisionError:\n",
        "    print(\"Oops! You can't divide by zero.\")"
      ],
      "metadata": {
        "colab": {
          "base_uri": "https://localhost:8080/"
        },
        "id": "5pefaKH7RsiW",
        "outputId": "48369ce3-797d-4093-b4ec-64da8167a1a6"
      },
      "execution_count": 5,
      "outputs": [
        {
          "output_type": "stream",
          "name": "stdout",
          "text": [
            "Oops! You can't divide by zero.\n"
          ]
        }
      ]
    },
    {
      "cell_type": "code",
      "source": [
        "#6. Write a Python program that logs an error message to a log file when a division by zero exception occurs.\n",
        "import logging\n",
        "\n",
        "# Set up the logger\n",
        "logging.basicConfig(\n",
        "    filename=\"error_log.txt\",\n",
        "    level=logging.ERROR,\n",
        "    format=\"%(asctime)s - %(levelname)s - %(message)s\"\n",
        ")\n",
        "\n",
        "try:\n",
        "    result = 10 / 0\n",
        "except ZeroDivisionError as e:\n",
        "    logging.error(\"Attempted division by zero: %s\", e)\n",
        "    print(\"An error occurred. Check error_log.txt for details.\")"
      ],
      "metadata": {
        "colab": {
          "base_uri": "https://localhost:8080/"
        },
        "id": "4nhTytCCSWFT",
        "outputId": "30419e7c-b3b7-4c2b-c443-c53df2b3af71"
      },
      "execution_count": 6,
      "outputs": [
        {
          "output_type": "stream",
          "name": "stderr",
          "text": [
            "ERROR:root:Attempted division by zero: division by zero\n"
          ]
        },
        {
          "output_type": "stream",
          "name": "stdout",
          "text": [
            "An error occurred. Check error_log.txt for details.\n"
          ]
        }
      ]
    },
    {
      "cell_type": "code",
      "source": [
        "#7. How do you log information at different levels (INFO, ERROR, WARNING) in Python using the logging module?\n",
        "import logging\n",
        "\n",
        "# Configure logging settings\n",
        "logging.basicConfig(\n",
        "    filename=\"app_log.txt\",\n",
        "    level=logging.DEBUG,  # Capture all levels from DEBUG and above\n",
        "    format=\"%(asctime)s - %(levelname)s - %(message)s\"\n",
        ")\n",
        "\n",
        "# Logging at different levels\n",
        "logging.info(\"This is an informational message.\")\n",
        "logging.warning(\"This is a warning message.\")\n",
        "logging.error(\"This is an error message.\")"
      ],
      "metadata": {
        "colab": {
          "base_uri": "https://localhost:8080/"
        },
        "id": "1UX3ealcSfdK",
        "outputId": "7e022aea-6084-44ba-cf8b-c03b95cfd2bc"
      },
      "execution_count": 7,
      "outputs": [
        {
          "output_type": "stream",
          "name": "stderr",
          "text": [
            "WARNING:root:This is a warning message.\n",
            "ERROR:root:This is an error message.\n"
          ]
        }
      ]
    },
    {
      "cell_type": "code",
      "source": [
        "#8.  Write a program to handle a file opening error using exception handling.\n",
        "filename = \"missing_file.txt\"\n",
        "\n",
        "try:\n",
        "    with open(filename, \"r\") as file:\n",
        "        content = file.read()\n",
        "        print(\"File content:\\n\", content)\n",
        "\n",
        "except FileNotFoundError:\n",
        "    print(f\"Error: The file '{filename}' was not found.\")\n",
        "\n",
        "except PermissionError:\n",
        "    print(f\"Error: You don't have permission to read '{filename}'.\")\n",
        "\n",
        "except Exception as e:\n",
        "    print(f\"An unexpected error occurred: {e}\")"
      ],
      "metadata": {
        "colab": {
          "base_uri": "https://localhost:8080/"
        },
        "id": "52v5BUG2Sr_k",
        "outputId": "454d5aa9-d7db-4e21-cfbd-2ec5ff693655"
      },
      "execution_count": 8,
      "outputs": [
        {
          "output_type": "stream",
          "name": "stdout",
          "text": [
            "Error: The file 'missing_file.txt' was not found.\n"
          ]
        }
      ]
    },
    {
      "cell_type": "code",
      "source": [
        "#9. How can you read a file line by line and store its content in a list in Python?\n",
        "filename = \"example.txt\"\n",
        "\n",
        "try:\n",
        "    with open(filename, \"r\") as file:\n",
        "        lines = file.readlines()  # Reads all lines into a list\n",
        "\n",
        "    print(\"File content as a list:\")\n",
        "    print(lines)\n",
        "\n",
        "except FileNotFoundError:\n",
        "    print(f\"The file '{filename}' was not found.\")"
      ],
      "metadata": {
        "colab": {
          "base_uri": "https://localhost:8080/"
        },
        "id": "-JyCcCfLSz6s",
        "outputId": "61347cac-fd43-4b1d-8568-2572c6c98ba4"
      },
      "execution_count": 9,
      "outputs": [
        {
          "output_type": "stream",
          "name": "stdout",
          "text": [
            "File content as a list:\n",
            "['Hello, Kalyani! This text will be written to the file.']\n"
          ]
        }
      ]
    },
    {
      "cell_type": "code",
      "source": [
        "#10. How can you append data to an existing file in Python?\n",
        "filename = \"notes.txt\"\n",
        "\n",
        "try:\n",
        "    with open(filename, \"a\") as file:\n",
        "        file.write(\"This new line will be added to the end of the file.\\n\")\n",
        "    print(f\"Data successfully appended to {filename}.\")\n",
        "except Exception as e:\n",
        "    print(f\"An error occurred: {e}\")"
      ],
      "metadata": {
        "colab": {
          "base_uri": "https://localhost:8080/"
        },
        "id": "FWvwnLsCS9Ws",
        "outputId": "8442324f-4a1f-4d86-f8a0-3b450cbf9d84"
      },
      "execution_count": 10,
      "outputs": [
        {
          "output_type": "stream",
          "name": "stdout",
          "text": [
            "Data successfully appended to notes.txt.\n"
          ]
        }
      ]
    },
    {
      "cell_type": "code",
      "source": [
        "#11. Write a Python program that uses a try-except block to handle an error when attempting to access a dictionary key that doesn't exist.\n",
        "# Sample dictionary\n",
        "student_marks = {\n",
        "    \"Alice\": 92,\n",
        "    \"Bob\": 85,\n",
        "    \"Charlie\": 78\n",
        "}\n",
        "\n",
        "# Key to search\n",
        "name = \"David\"\n",
        "\n",
        "try:\n",
        "    mark = student_marks[name]\n",
        "    print(f\"{name}'s marks: {mark}\")\n",
        "except KeyError:\n",
        "    print(f\"Error: '{name}' not found in the dictionary.\")"
      ],
      "metadata": {
        "colab": {
          "base_uri": "https://localhost:8080/"
        },
        "id": "d8rmfmrgTG7u",
        "outputId": "18893a29-8c71-4ee1-dedc-afeb31163697"
      },
      "execution_count": 11,
      "outputs": [
        {
          "output_type": "stream",
          "name": "stdout",
          "text": [
            "Error: 'David' not found in the dictionary.\n"
          ]
        }
      ]
    },
    {
      "cell_type": "code",
      "source": [
        "#12. Write a program that demonstrates using multiple except blocks to handle different types of exceptions.\n",
        "def handle_exceptions():\n",
        "    try:\n",
        "        num1 = int(input(\"Enter a number: \"))\n",
        "        num2 = int(input(\"Enter another number: \"))\n",
        "        result = num1 / num2\n",
        "        print(f\"The result is: {result}\")\n",
        "\n",
        "        lst = [1, 2, 3]\n",
        "        print(f\"The fourth element is: {lst[3]}\")  # IndexError here\n",
        "\n",
        "    except ValueError:\n",
        "        print(\"Oops! That wasn't a valid number. Please enter integers only.\")\n",
        "\n",
        "    except ZeroDivisionError:\n",
        "        print(\"Whoops! Cannot divide by zero.\")\n",
        "\n",
        "    except IndexError:\n",
        "        print(\"Looks like you're trying to access an element outside the list's range.\")\n",
        "\n",
        "    except Exception as e:\n",
        "        print(f\"Something went wrong: {e}\")\n",
        "\n",
        "handle_exceptions()"
      ],
      "metadata": {
        "id": "w4wtRzQvTTvp",
        "colab": {
          "base_uri": "https://localhost:8080/"
        },
        "outputId": "4b6a0ea3-ce38-4434-fa0d-66fd11f9f070"
      },
      "execution_count": 14,
      "outputs": [
        {
          "output_type": "stream",
          "name": "stdout",
          "text": [
            "Enter a number: 9\n",
            "Enter another number: 3\n",
            "The result is: 3.0\n",
            "Looks like you're trying to access an element outside the list's range.\n"
          ]
        }
      ]
    },
    {
      "cell_type": "code",
      "source": [
        "#13. How would you check if a file exists before attempting to read it in Python.\n",
        "import os\n",
        "\n",
        "file_path = 'example.txt'\n",
        "\n",
        "if os.path.exists(file_path):\n",
        "    with open(file_path, 'r') as file:\n",
        "        content = file.read()\n",
        "        print(content)\n",
        "else:\n",
        "    print(\"File not found.\")"
      ],
      "metadata": {
        "colab": {
          "base_uri": "https://localhost:8080/"
        },
        "id": "BgZzo3C327Bw",
        "outputId": "93924103-53b9-4edd-a27e-44b28d5701ee"
      },
      "execution_count": 15,
      "outputs": [
        {
          "output_type": "stream",
          "name": "stdout",
          "text": [
            "Hello, Kalyani! This text will be written to the file.\n"
          ]
        }
      ]
    },
    {
      "cell_type": "code",
      "source": [
        "#14. Write a program that uses the logging module to log both informational and error messages.\n",
        "import logging\n",
        "\n",
        "# Configure logging\n",
        "logging.basicConfig(\n",
        "    filename='app.log',          # Logs will be saved in this file\n",
        "    level=logging.DEBUG,         # Capture all levels of log messages\n",
        "    format='%(asctime)s - %(levelname)s - %(message)s'\n",
        ")\n",
        "\n",
        "def divide_numbers(a, b):\n",
        "    logging.info(f\"Trying to divide {a} by {b}\")\n",
        "    try:\n",
        "        result = a / b\n",
        "        logging.info(f\"Result: {result}\")\n",
        "        return result\n",
        "    except ZeroDivisionError as e:\n",
        "        logging.error(f\"Error occurred: {e}\")\n",
        "        return None\n",
        "\n",
        "# Example usage\n",
        "divide_numbers(10, 2)   # Informational logs\n",
        "divide_numbers(5, 0)    # This will trigger an error log"
      ],
      "metadata": {
        "colab": {
          "base_uri": "https://localhost:8080/"
        },
        "id": "IiU_Wl393f9M",
        "outputId": "c0867d4b-49e3-4996-9693-0398ef466cb8"
      },
      "execution_count": 16,
      "outputs": [
        {
          "output_type": "stream",
          "name": "stderr",
          "text": [
            "ERROR:root:Error occurred: division by zero\n"
          ]
        }
      ]
    },
    {
      "cell_type": "code",
      "source": [
        "#15. Write a Python program that prints the content of a file and handles the case when the file is empty.\n",
        "from pathlib import Path\n",
        "\n",
        "def read_file(file_name):\n",
        "    file_path = Path(file_name)\n",
        "\n",
        "    if not file_path.exists():\n",
        "        print(\"The file does not exist.\")\n",
        "        return\n",
        "\n",
        "    if file_path.stat().st_size == 0:\n",
        "        print(\"The file is empty.\")\n",
        "        return\n",
        "\n",
        "    with file_path.open('r') as file:\n",
        "        content = file.read()\n",
        "        print(\"File contents:\\n\", content)\n",
        "\n",
        "# Example usage\n",
        "read_file('sample.txt')"
      ],
      "metadata": {
        "colab": {
          "base_uri": "https://localhost:8080/"
        },
        "id": "0v24hUIJ3vID",
        "outputId": "eb2bc9b6-a008-4d11-d626-bf191bdd01f1"
      },
      "execution_count": 17,
      "outputs": [
        {
          "output_type": "stream",
          "name": "stdout",
          "text": [
            "The file does not exist.\n"
          ]
        }
      ]
    },
    {
      "cell_type": "code",
      "source": [
        "#16. Demonstrate how to use memory profiling to check the memory usage of a small program.\n",
        "#(Install memory_profiler)\n",
        "pip install memory-profiler\n",
        "from memory_profiler import profile\n",
        "\n",
        "@profile\n",
        "def create_large_list():\n",
        "    nums = [i for i in range(1000000)]\n",
        "    return nums\n",
        "\n",
        "if __name__ == \"__main__\":\n",
        "    create_large_list()\n",
        "\n",
        "#(python -m memory_profiler memory_test.py) python -m memory_profiler memory_test.py\n",
        "#OUTPUT:\n",
        "#Line #    Mem usage    Increment   Line Contents\n",
        "#================================================\n",
        "#     4     18.9 MiB     18.9 MiB   @profile\n",
        "#     5     26.5 MiB      7.6 MiB   nums = [i for i in range(1000000)]"
      ],
      "metadata": {
        "id": "kVNtJAj735nC"
      },
      "execution_count": 19,
      "outputs": []
    },
    {
      "cell_type": "code",
      "source": [
        "#17. Write a Python program to create and write a list of numbers to a file, one number per line.\n",
        "def write_numbers_to_file(file_name, numbers):\n",
        "    with open(file_name, 'w') as file:\n",
        "        for num in numbers:\n",
        "            file.write(f\"{num}\\n\")\n",
        "    print(f\"Successfully written {len(numbers)} numbers to '{file_name}'\")\n",
        "\n",
        "# Example usage\n",
        "number_list = list(range(1, 11))  # Creates a list from 1 to 10\n",
        "write_numbers_to_file(\"numbers.txt\", number_list)"
      ],
      "metadata": {
        "colab": {
          "base_uri": "https://localhost:8080/"
        },
        "id": "j4fJuak340jB",
        "outputId": "4d7995a8-0f79-4866-e3d7-51832de5a00b"
      },
      "execution_count": 20,
      "outputs": [
        {
          "output_type": "stream",
          "name": "stdout",
          "text": [
            "Successfully written 10 numbers to 'numbers.txt'\n"
          ]
        }
      ]
    },
    {
      "cell_type": "markdown",
      "source": [],
      "metadata": {
        "id": "VMRh9a2L4_7T"
      }
    },
    {
      "cell_type": "code",
      "source": [
        "#18. How would you implement a basic logging setup that logs to a file with rotation after 1MB?\n",
        "import logging\n",
        "from logging.handlers import RotatingFileHandler\n",
        "\n",
        "# Configure the rotating log handler\n",
        "log_handler = RotatingFileHandler(\n",
        "    'app.log',           # Log file name\n",
        "    maxBytes=1_048_576,  # 1 MB = 1024 * 1024 bytes\n",
        "    backupCount=3        # Keep up to 3 old log files\n",
        ")\n",
        "\n",
        "# Configure logging format and level\n",
        "formatter = logging.Formatter('%(asctime)s - %(levelname)s - %(message)s')\n",
        "log_handler.setFormatter(formatter)\n",
        "\n",
        "logger = logging.getLogger()\n",
        "logger.setLevel(logging.INFO)\n",
        "logger.addHandler(log_handler)\n",
        "\n",
        "# Sample log statements\n",
        "logger.info(\"This is an info message.\")\n",
        "logger.error(\"This is an error message.\")"
      ],
      "metadata": {
        "colab": {
          "base_uri": "https://localhost:8080/"
        },
        "id": "ITi79CCf48pX",
        "outputId": "257dc73b-ac10-4534-efba-12eee8702beb"
      },
      "execution_count": 21,
      "outputs": [
        {
          "output_type": "stream",
          "name": "stderr",
          "text": [
            "INFO:root:This is an info message.\n",
            "ERROR:root:This is an error message.\n"
          ]
        }
      ]
    },
    {
      "cell_type": "code",
      "source": [
        "#19. Write a program that handles both IndexError and KeyError using a try-except block.\n",
        "def handle_index_and_key():\n",
        "    my_list = [10, 20, 30]\n",
        "    my_dict = {'a': 1, 'b': 2}\n",
        "\n",
        "    try:\n",
        "        # This will raise an IndexError\n",
        "        print(\"Accessing list element:\", my_list[5])\n",
        "\n",
        "        # This will raise a KeyError\n",
        "        print(\"Accessing dictionary value:\", my_dict['z'])\n",
        "\n",
        "    except IndexError:\n",
        "        print(\"Caught an IndexError: List index is out of range.\")\n",
        "\n",
        "    except KeyError:\n",
        "        print(\"Caught a KeyError: Key not found in dictionary.\")\n",
        "\n",
        "# Run the function\n",
        "handle_index_and_key()"
      ],
      "metadata": {
        "colab": {
          "base_uri": "https://localhost:8080/"
        },
        "id": "AWrA9nJY5H5Z",
        "outputId": "929540b8-61dc-40bf-c142-f9aae54d42e2"
      },
      "execution_count": 22,
      "outputs": [
        {
          "output_type": "stream",
          "name": "stdout",
          "text": [
            "Caught an IndexError: List index is out of range.\n"
          ]
        }
      ]
    },
    {
      "cell_type": "code",
      "source": [
        "#20.  How would you open a file and read its contents using a context manager in Python?\n",
        "file_name = 'example.txt'\n",
        "\n",
        "try:\n",
        "    with open(file_name, 'r') as file:\n",
        "        contents = file.read()\n",
        "        print(\"File contents:\\n\", contents)\n",
        "except FileNotFoundError:\n",
        "    print(f\"'{file_name}' not found.\")"
      ],
      "metadata": {
        "colab": {
          "base_uri": "https://localhost:8080/"
        },
        "id": "2rQcaPSZ5R3W",
        "outputId": "3dd53201-6c94-40d5-90d6-a21d20aa1769"
      },
      "execution_count": 23,
      "outputs": [
        {
          "output_type": "stream",
          "name": "stdout",
          "text": [
            "File contents:\n",
            " Hello, Kalyani! This text will be written to the file.\n"
          ]
        }
      ]
    },
    {
      "cell_type": "code",
      "source": [
        "#21. Write a Python program that reads a file and prints the number of occurrences of a specific word.\n",
        "def count_word_occurrences(file_name, word_to_count):\n",
        "    try:\n",
        "        with open(file_name, 'r') as file:\n",
        "            content = file.read()\n",
        "            word_count = content.lower().split().count(word_to_count.lower())\n",
        "            print(f\"The word '{word_to_count}' appears {word_count} time(s).\")\n",
        "    except FileNotFoundError:\n",
        "        print(f\"The file '{file_name}' was not found.\")\n",
        "\n",
        "# Example usage\n",
        "count_word_occurrences('sample.txt', 'python')"
      ],
      "metadata": {
        "colab": {
          "base_uri": "https://localhost:8080/"
        },
        "id": "yTFp_aOO5Z6U",
        "outputId": "37e9e026-1221-4f0e-ce41-807e65cd372a"
      },
      "execution_count": 24,
      "outputs": [
        {
          "output_type": "stream",
          "name": "stdout",
          "text": [
            "The file 'sample.txt' was not found.\n"
          ]
        }
      ]
    },
    {
      "cell_type": "code",
      "source": [
        "#22. How can you check if a file is empty before attempting to read its contents?\n",
        "from pathlib import Path\n",
        "\n",
        "file_path = Path('example.txt')\n",
        "\n",
        "if not file_path.exists():\n",
        "    print(\"The file does not exist.\")\n",
        "elif file_path.stat().st_size == 0:\n",
        "    print(\"The file is empty.\")\n",
        "else:\n",
        "    with file_path.open('r') as file:\n",
        "        content = file.read()\n",
        "        print(\"File contents:\\n\", content)"
      ],
      "metadata": {
        "colab": {
          "base_uri": "https://localhost:8080/"
        },
        "id": "bhzG6GEP5isM",
        "outputId": "c36aec45-2e68-409b-aa18-9888c00429e4"
      },
      "execution_count": 25,
      "outputs": [
        {
          "output_type": "stream",
          "name": "stdout",
          "text": [
            "File contents:\n",
            " Hello, Kalyani! This text will be written to the file.\n"
          ]
        }
      ]
    },
    {
      "cell_type": "code",
      "source": [
        "#23. Write a Python program that writes to a log file when an error occurs during file handling.\n",
        "import logging\n",
        "from pathlib import Path\n",
        "\n",
        "# Set up logging\n",
        "logging.basicConfig(\n",
        "    filename='file_errors.log',\n",
        "    level=logging.ERROR,\n",
        "    format='%(asctime)s - %(levelname)s - %(message)s'\n",
        ")\n",
        "\n",
        "def read_file_safely(file_name):\n",
        "    file_path = Path(file_name)\n",
        "\n",
        "    try:\n",
        "        with file_path.open('r') as file:\n",
        "            content = file.read()\n",
        "            print(\"File contents:\\n\", content)\n",
        "    except Exception as e:\n",
        "        logging.error(f\"Failed to read '{file_name}': {e}\")\n",
        "        print(f\"An error occurred. Check the log file 'file_errors.log' for details.\")\n",
        "\n",
        "# Example usage\n",
        "read_file_safely('data.txt')"
      ],
      "metadata": {
        "colab": {
          "base_uri": "https://localhost:8080/"
        },
        "id": "Hm2RLz6A5sRA",
        "outputId": "396cf9fd-2c97-411a-c70c-303dd81e98e8"
      },
      "execution_count": 26,
      "outputs": [
        {
          "output_type": "stream",
          "name": "stderr",
          "text": [
            "ERROR:root:Failed to read 'data.txt': [Errno 2] No such file or directory: 'data.txt'\n"
          ]
        },
        {
          "output_type": "stream",
          "name": "stdout",
          "text": [
            "An error occurred. Check the log file 'file_errors.log' for details.\n"
          ]
        }
      ]
    },
    {
      "cell_type": "markdown",
      "source": [],
      "metadata": {
        "id": "F-nw04Vb5AYV"
      }
    }
  ]
}